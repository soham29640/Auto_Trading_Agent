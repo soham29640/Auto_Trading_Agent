{
 "cells": [
  {
   "cell_type": "code",
   "execution_count": 1,
   "id": "6bcd8209",
   "metadata": {},
   "outputs": [
    {
     "name": "stderr",
     "output_type": "stream",
     "text": [
      "c:\\Users\\KIIT0001\\Documents\\Github project\\Auto_Trade_AI\\.\\src\\utils\\data_loader.py:6: FutureWarning: YF.download() has changed argument auto_adjust default to True\n",
      "  df = yf.download(ticker, interval=interval, period=period, progress=False)\n"
     ]
    },
    {
     "name": "stdout",
     "output_type": "stream",
     "text": [
      "           Close        High         Low        Open   Volume  \\\n",
      "2299  213.875000  214.020004  213.774994  214.020004   310576   \n",
      "2300  213.845001  214.139999  213.845001  213.875000   470061   \n",
      "2301  213.759995  213.929993  213.660004  213.850006   470929   \n",
      "2302  213.659393  213.919998  213.330002  213.809998   773413   \n",
      "2303  213.589996  213.789993  213.330002  213.660004  1505344   \n",
      "\n",
      "                          Date       SMA_5      SMA_15        RSI      MACD  \\\n",
      "2299 2025-07-03 22:05:00+05:30  214.095999  214.217513  48.417175  0.166618   \n",
      "2300 2025-07-03 22:10:00+05:30  213.982001  214.215179  47.809491  0.131131   \n",
      "2301 2025-07-03 22:15:00+05:30  213.922000  214.203919  46.045878  0.095052   \n",
      "2302 2025-07-03 22:20:00+05:30  213.833878  214.174552  43.978299  0.057677   \n",
      "2303 2025-07-03 22:25:00+05:30  213.745877  214.106552  42.558649  0.022201   \n",
      "\n",
      "      MACD_Signal  MACD_Diff     BB_High      BB_Low  \n",
      "2299     0.269951  -0.103332  214.616823  213.757786  \n",
      "2300     0.242187  -0.111056  214.628420  213.725680  \n",
      "2301     0.212760  -0.117708  214.646766  213.679334  \n",
      "2302     0.181743  -0.124066  214.673517  213.616173  \n",
      "2303     0.149835  -0.127634  214.688194  213.533515  \n"
     ]
    }
   ],
   "source": [
    "import sys\n",
    "import os\n",
    "import pandas as pd\n",
    "sys.path.append(os.path.join(os.path.dirname(os.getcwd()), '.'))\n",
    "from src.utils.indicator_engine import add_indicators\n",
    "from src.utils.data_loader import fetch_data\n",
    "df = fetch_data(\"AAPL\") \n",
    "df = add_indicators(df)\n",
    "\n",
    "print(df.tail())\n"
   ]
  },
  {
   "cell_type": "code",
   "execution_count": null,
   "id": "406417ba",
   "metadata": {},
   "outputs": [],
   "source": []
  }
 ],
 "metadata": {
  "kernelspec": {
   "display_name": ".venv",
   "language": "python",
   "name": "python3"
  },
  "language_info": {
   "codemirror_mode": {
    "name": "ipython",
    "version": 3
   },
   "file_extension": ".py",
   "mimetype": "text/x-python",
   "name": "python",
   "nbconvert_exporter": "python",
   "pygments_lexer": "ipython3",
   "version": "3.11.8"
  }
 },
 "nbformat": 4,
 "nbformat_minor": 5
}
