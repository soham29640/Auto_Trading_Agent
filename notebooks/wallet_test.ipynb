{
 "cells": [
  {
   "cell_type": "code",
   "execution_count": 2,
   "id": "e94334d7",
   "metadata": {},
   "outputs": [
    {
     "name": "stdout",
     "output_type": "stream",
     "text": [
      "{'cash': 49920, 'holdings': 1, 'avg_buy_price': 100.0, 'market_value': 100.0, 'portfolio_value': 50020.0}\n"
     ]
    }
   ],
   "source": [
    "import os\n",
    "import sys\n",
    "sys.path.append(os.path.join(os.path.dirname(os.getcwd())))\n",
    "from src.agent.wallet import Wallet\n",
    "\n",
    "wallet = Wallet(50000)\n",
    "wallet.buy(price=100, qty=2)\n",
    "wallet.sell(price=120, qty=1)\n",
    "print(wallet.summary())\n"
   ]
  }
 ],
 "metadata": {
  "kernelspec": {
   "display_name": ".venv",
   "language": "python",
   "name": "python3"
  },
  "language_info": {
   "codemirror_mode": {
    "name": "ipython",
    "version": 3
   },
   "file_extension": ".py",
   "mimetype": "text/x-python",
   "name": "python",
   "nbconvert_exporter": "python",
   "pygments_lexer": "ipython3",
   "version": "3.11.8"
  }
 },
 "nbformat": 4,
 "nbformat_minor": 5
}
