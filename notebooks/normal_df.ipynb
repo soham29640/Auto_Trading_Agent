{
 "cells": [
  {
   "cell_type": "code",
   "execution_count": 1,
   "id": "337e5fba",
   "metadata": {},
   "outputs": [
    {
     "name": "stderr",
     "output_type": "stream",
     "text": [
      "c:\\Users\\KIIT0001\\Documents\\Github project\\Auto_Trade_AI\\.\\src\\utils\\data_loader.py:6: FutureWarning: YF.download() has changed argument auto_adjust default to True\n",
      "  df = yf.download(ticker, interval=interval, period=period, progress=False)\n",
      "\n",
      "1 Failed download:\n",
      "['AAPL']: Timeout('Failed to perform, curl: (28) Operation timed out after 10007 milliseconds with 2601 bytes received. See https://curl.se/libcurl/c/libcurl-errors.html first for more details.')\n"
     ]
    },
    {
     "ename": "ValueError",
     "evalue": "No data fetched for ticker: AAPL",
     "output_type": "error",
     "traceback": [
      "\u001b[31m---------------------------------------------------------------------------\u001b[39m",
      "\u001b[31mValueError\u001b[39m                                Traceback (most recent call last)",
      "\u001b[36mCell\u001b[39m\u001b[36m \u001b[39m\u001b[32mIn[1]\u001b[39m\u001b[32m, line 6\u001b[39m\n\u001b[32m      3\u001b[39m sys.path.append(os.path.join(os.path.dirname(os.getcwd()), \u001b[33m'\u001b[39m\u001b[33m.\u001b[39m\u001b[33m'\u001b[39m))\n\u001b[32m      5\u001b[39m \u001b[38;5;28;01mfrom\u001b[39;00m\u001b[38;5;250m \u001b[39m\u001b[34;01msrc\u001b[39;00m\u001b[34;01m.\u001b[39;00m\u001b[34;01mutils\u001b[39;00m\u001b[34;01m.\u001b[39;00m\u001b[34;01mdata_loader\u001b[39;00m\u001b[38;5;250m \u001b[39m\u001b[38;5;28;01mimport\u001b[39;00m fetch_data\n\u001b[32m----> \u001b[39m\u001b[32m6\u001b[39m df = \u001b[43mfetch_data\u001b[49m\u001b[43m(\u001b[49m\u001b[33;43m\"\u001b[39;49m\u001b[33;43mAAPL\u001b[39;49m\u001b[33;43m\"\u001b[39;49m\u001b[43m)\u001b[49m\n\u001b[32m      7\u001b[39m \u001b[38;5;28mprint\u001b[39m(df.tail())\n",
      "\u001b[36mFile \u001b[39m\u001b[32mc:\\Users\\KIIT0001\\Documents\\Github project\\Auto_Trade_AI\\.\\src\\utils\\data_loader.py:8\u001b[39m, in \u001b[36mfetch_data\u001b[39m\u001b[34m(ticker, interval, period)\u001b[39m\n\u001b[32m      6\u001b[39m df = yf.download(ticker, interval=interval, period=period, progress=\u001b[38;5;28;01mFalse\u001b[39;00m)\n\u001b[32m      7\u001b[39m \u001b[38;5;28;01mif\u001b[39;00m df.empty:\n\u001b[32m----> \u001b[39m\u001b[32m8\u001b[39m     \u001b[38;5;28;01mraise\u001b[39;00m \u001b[38;5;167;01mValueError\u001b[39;00m(\u001b[33mf\u001b[39m\u001b[33m\"\u001b[39m\u001b[33mNo data fetched for ticker: \u001b[39m\u001b[38;5;132;01m{\u001b[39;00mticker\u001b[38;5;132;01m}\u001b[39;00m\u001b[33m\"\u001b[39m)\n\u001b[32m     10\u001b[39m \u001b[38;5;28;01mif\u001b[39;00m \u001b[38;5;28misinstance\u001b[39m(df.columns, pd.MultiIndex):\n\u001b[32m     11\u001b[39m     df.columns = [col[\u001b[32m0\u001b[39m] \u001b[38;5;28;01mfor\u001b[39;00m col \u001b[38;5;129;01min\u001b[39;00m df.columns]\n",
      "\u001b[31mValueError\u001b[39m: No data fetched for ticker: AAPL"
     ]
    }
   ],
   "source": [
    "import os\n",
    "import sys\n",
    "sys.path.append(os.path.join(os.path.dirname(os.getcwd()), '.'))\n",
    "\n",
    "from src.utils.data_loader import fetch_data\n",
    "df = fetch_data(\"AAPL\")\n",
    "print(df.tail())"
   ]
  }
 ],
 "metadata": {
  "kernelspec": {
   "display_name": ".venv",
   "language": "python",
   "name": "python3"
  },
  "language_info": {
   "codemirror_mode": {
    "name": "ipython",
    "version": 3
   },
   "file_extension": ".py",
   "mimetype": "text/x-python",
   "name": "python",
   "nbconvert_exporter": "python",
   "pygments_lexer": "ipython3",
   "version": "3.11.8"
  }
 },
 "nbformat": 4,
 "nbformat_minor": 5
}
